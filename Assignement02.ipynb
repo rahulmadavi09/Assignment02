{
  "nbformat": 4,
  "nbformat_minor": 0,
  "metadata": {
    "colab": {
      "name": "Assignement02.ipynb",
      "provenance": [],
      "collapsed_sections": []
    },
    "kernelspec": {
      "name": "python3",
      "display_name": "Python 3"
    },
    "language_info": {
      "name": "python"
    }
  },
  "cells": [
    {
      "cell_type": "markdown",
      "source": [
        "**1.What are the two values of the Boolean data type? How do you write them?**\n",
        "\n",
        "> True and False are the two values of the boolean data type\n",
        "\n",
        ">The way it is written as follows **True** and **False**"
      ],
      "metadata": {
        "id": "NR7CnLODmEnc"
      }
    },
    {
      "cell_type": "markdown",
      "source": [
        "**2. What are the three different types of Boolean operators?**\n",
        "\n",
        ">There are three 3 different Boolean data types:\n",
        ">> and\n",
        "\n",
        ">> or\n",
        "\n",
        ">> not "
      ],
      "metadata": {
        "id": "WihTB-4bnyX1"
      }
    },
    {
      "cell_type": "markdown",
      "source": [
        "**3. Make a list of each Boolean operator&#39;s truth tables (i.e. every possible combination of Boolean values for the operator and what it evaluate).**\n",
        "\n",
        "\n",
        "AND Truth table\n",
        "-------------------------------------\n",
        ">T&T=T\n",
        "\n",
        ">T&F=F\n",
        "\n",
        ">F&T=F\n",
        "\n",
        ">F&F=F\n",
        "-------------------------------------\n",
        "\n",
        "OR Truth Table\n",
        "-------------------------------------\n",
        ">T+T=T\n",
        "\n",
        ">T+F=T\n",
        "\n",
        ">F+T=T\n",
        "\n",
        ">F+F=F\n",
        "------------------------------------\n",
        "\n",
        "NOT Truth Table\n",
        "------------------------------------\n",
        "T=F\n",
        "\n",
        "F=T\n"
      ],
      "metadata": {
        "id": "Va0Rji98obsu"
      }
    },
    {
      "cell_type": "markdown",
      "source": [
        ""
      ],
      "metadata": {
        "id": "DVWIIAt_qXj1"
      }
    },
    {
      "cell_type": "markdown",
      "source": [
        "**4. What are the values of the following expressions?**\n",
        "\n",
        ">(5 &gt; 4) and (3 == 5) **False**\n",
        "\n",
        ">not (5 &gt; 4) **False**\n",
        "\n",
        ">(5 &gt; 4) or (3 == 5) **True**\n",
        "\n",
        ">not ((5 &gt; 4) or (3 == 5)) **False**\n",
        "\n",
        ">(True and True) and (True == False) **False**\n",
        "\n",
        ">(not False) or (not True) **True**"
      ],
      "metadata": {
        "id": "DtT5uKfVqbf4"
      }
    },
    {
      "cell_type": "markdown",
      "source": [
        "**5. What are the six comparison operators?**\n",
        "\n",
        "Ans: Six comparison Operators as follows:\n",
        "\n",
        "* Less Than (<)\n",
        "* Less than or equal to (<=)\n",
        "* Greater than (>)\n",
        "* Greater than or equal to (>=)\n",
        "* Equal to (==)\n",
        "* Not Equal to  (!=)"
      ],
      "metadata": {
        "id": "q5Ehl1gfrGMO"
      }
    },
    {
      "cell_type": "markdown",
      "source": [
        "**6. How do you tell the difference between the equal to and assignment operators? Describe a condition and when you would use one.**\n",
        "\n",
        "Ans:\n",
        "* assignment operator(=) and Equal to operator is (==)\n",
        "* When we want to assign a value to variable for exmple r=5 we use assignment operator\n",
        "* When we want to show that two values are equal or simmiler then we use (==) equal to operator for example 5==5 or 2+3 == 5"
      ],
      "metadata": {
        "id": "rtk_SQ9n6Hl5"
      }
    },
    {
      "cell_type": "markdown",
      "source": [
        "**7. Identify the three blocks in this code:**\n",
        "\n",
        "spam = 0\n",
        "\n",
        "if spam == 10:\n",
        "\n",
        "print(&#39;eggs&#39;)\n",
        "\n",
        "if spam &gt; 5:\n",
        "\n",
        "print(&#39;bacon&#39;)\n",
        "\n",
        "else:\n",
        "print(&#39;ham&#39;)\n",
        "\n",
        "print(&#39;spam&#39;)\n",
        "\n",
        "print(&#39;spam&#39;)\n",
        "\n",
        "\n",
        "Ans :\n",
        "\n",
        "spam = 0\n",
        "\n",
        "**first Block:**\n",
        "\n",
        "if spam == 10:\n",
        "\n",
        "print('eggs')\n",
        "\n",
        "**Second Block:**\n",
        "\n",
        "if spam > 5:\n",
        "\n",
        "print('bacon')\n",
        "\n",
        "**Third Block:**\n",
        "\n",
        "else: print('ham')\n",
        "\n",
        "print('spam')\n",
        "\n",
        "print('spam')"
      ],
      "metadata": {
        "id": "Dn5nyuNl6-mL"
      }
    },
    {
      "cell_type": "markdown",
      "source": [
        "**8. Write code that prints Hello if 1 is stored in spam, prints Howdy if 2 is stored in spam, and prints Greetings! if anything else is stored in spam.**\n"
      ],
      "metadata": {
        "id": "VB0suEYz7yXA"
      }
    },
    {
      "cell_type": "code",
      "source": [
        "spam = int(input())\n",
        "if (spam == 1):\n",
        "    print('Hello')\n",
        "\n",
        "elif (spam == 2):\n",
        "  print('Howdy')\n",
        "\n",
        "else:\n",
        "  print('Greetings!')"
      ],
      "metadata": {
        "id": "mRmgOHAw8Ocq",
        "colab": {
          "base_uri": "https://localhost:8080/"
        },
        "outputId": "279d7334-9396-4327-d513-12a6fe539b40"
      },
      "execution_count": 16,
      "outputs": [
        {
          "output_type": "stream",
          "name": "stdout",
          "text": [
            "1\n",
            "Hello\n"
          ]
        }
      ]
    },
    {
      "cell_type": "markdown",
      "source": [
        "**9.If your programme is stuck in an endless loop, what keys you’ll press?**\n",
        "\n",
        "Ans: CTR+C"
      ],
      "metadata": {
        "id": "1JK2uIRpFe_2"
      }
    },
    {
      "cell_type": "markdown",
      "source": [
        "**Que 10: How can you tell the difference between break and continue?**\n",
        "\n",
        "Ans:\n",
        "* Break statement terminates the current execution \n",
        "* Continue statement skips the current iteration and executes the very next iteration in the loop"
      ],
      "metadata": {
        "id": "cziFl_kiFqJu"
      }
    },
    {
      "cell_type": "markdown",
      "source": [
        "**11. In a for loop, what is the difference between range(10), range(0, 10), and range(0, 10, 1)?**\n",
        "\n",
        "Ans:\n",
        "\n",
        "* range(10) : In this by default it will start with 0 and will end at 10 (0,1,2,3,4,5,6,7,8,9)\n",
        "\n",
        "* range(0,10) : In this numbers will start with 0 and wil end at 10 (0,1,2,3,4,5,6,7,8,9)\n",
        "\n",
        "* range(0,10,1) : In this numbers will start with 0 and will jump by 1 and will end at 10 (0,1,2,3,4,5,6,7,8,9)"
      ],
      "metadata": {
        "id": "zUJhS3OnGad6"
      }
    },
    {
      "cell_type": "code",
      "source": [
        "for i in range(10):\n",
        "    print(i, end=\" \")\n",
        "print()"
      ],
      "metadata": {
        "colab": {
          "base_uri": "https://localhost:8080/"
        },
        "id": "TTgkoQqdHmav",
        "outputId": "ac4d7b39-1c70-4d18-fd57-5a44edcb60f5"
      },
      "execution_count": 19,
      "outputs": [
        {
          "output_type": "stream",
          "name": "stdout",
          "text": [
            "0 1 2 3 4 5 6 7 8 9 \n"
          ]
        }
      ]
    },
    {
      "cell_type": "code",
      "source": [
        "for i in range(0,10):\n",
        "    print(i, end=\" \")\n",
        "print()"
      ],
      "metadata": {
        "colab": {
          "base_uri": "https://localhost:8080/"
        },
        "id": "_vxi4FNVHnmw",
        "outputId": "2287f7bf-1bf1-4d88-d6ce-6f5151cebef0"
      },
      "execution_count": 20,
      "outputs": [
        {
          "output_type": "stream",
          "name": "stdout",
          "text": [
            "0 1 2 3 4 5 6 7 8 9 \n"
          ]
        }
      ]
    },
    {
      "cell_type": "code",
      "source": [
        "for i in range(0,10,1):\n",
        "    print(i, end=\" \")\n",
        "print()"
      ],
      "metadata": {
        "colab": {
          "base_uri": "https://localhost:8080/"
        },
        "id": "Uj3WIVkFH93s",
        "outputId": "294ce72f-f9a4-47ef-dcf3-45b275e7910d"
      },
      "execution_count": 21,
      "outputs": [
        {
          "output_type": "stream",
          "name": "stdout",
          "text": [
            "0 1 2 3 4 5 6 7 8 9 \n"
          ]
        }
      ]
    },
    {
      "cell_type": "code",
      "source": [
        ""
      ],
      "metadata": {
        "id": "cnBpwD5UIASX"
      },
      "execution_count": null,
      "outputs": []
    },
    {
      "cell_type": "markdown",
      "source": [
        "**12. Write a short program that prints the numbers 1 to 10 using a for loop. Then write an equivalent program that prints the numbers 1 to 10 using a while loop.**"
      ],
      "metadata": {
        "id": "RA7Lo-yAIB2I"
      }
    },
    {
      "cell_type": "code",
      "source": [
        "for i in range(1,11):\n",
        "    print(i, end=\" \")\n",
        "print()"
      ],
      "metadata": {
        "colab": {
          "base_uri": "https://localhost:8080/"
        },
        "id": "6-pHnoAtIJLZ",
        "outputId": "7323ff65-2aaf-4491-86db-70a9a8cf497f"
      },
      "execution_count": 23,
      "outputs": [
        {
          "output_type": "stream",
          "name": "stdout",
          "text": [
            "1 2 3 4 5 6 7 8 9 10 \n"
          ]
        }
      ]
    },
    {
      "cell_type": "code",
      "source": [
        "i = 1\n",
        "while i <= 10:\n",
        "  print(i)\n",
        "  i += 1"
      ],
      "metadata": {
        "colab": {
          "base_uri": "https://localhost:8080/"
        },
        "id": "dvtLbRU6INDo",
        "outputId": "12c93c6b-53fb-4a51-cf38-efbb505f62c6"
      },
      "execution_count": 28,
      "outputs": [
        {
          "output_type": "stream",
          "name": "stdout",
          "text": [
            "1\n",
            "2\n",
            "3\n",
            "4\n",
            "5\n",
            "6\n",
            "7\n",
            "8\n",
            "9\n",
            "10\n"
          ]
        }
      ]
    },
    {
      "cell_type": "markdown",
      "source": [
        "**13. If you had a function named bacon() inside a module named spam, how would you call it after importing spam?**\n",
        "\n",
        "\n",
        "Ans: \n",
        "import spam\n",
        "\n",
        "then we can call it by\n",
        "\n",
        "spam.bacon()"
      ],
      "metadata": {
        "id": "UFWOE9niIr3V"
      }
    }
  ]
}